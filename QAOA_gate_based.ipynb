{
 "cells": [
  {
   "cell_type": "markdown",
   "id": "50422bd8-57c4-4cfb-8a38-4651c15345e5",
   "metadata": {},
   "source": [
    "# Gate based maxcut solver\n",
    "\n",
    "The code below allows, given a graph, to obtain the maxcut of that graph.\n",
    "\n",
    "The method consists of starting from a Hamiltonian that does not correspond to our graph but rather to a placement of the graph's points independently of each other; this is what we represent by the Hamiltonian $H_x$. Then, we construct an interaction Hamiltonian that maps the connections between the nodes of our graph, which we call the Hamiltonian $H_c$. The Hamiltonian $H_x$ has a well-known ground state. This method involves initializing the system in the ground state of the Hamiltonian $H_x$, then using the parameters $\\eta$ to slowly evolve the Hamiltonian $H_{x}$ towards the Hamiltonian $H_c$. Since the evolution is slow, this ensures that the system remains in the ground state throughout the procedure, and thus, in the end, the system is in the ground state of the Hamiltonian associated with our graph $H_c$.\n",
    "\n",
    "### The code\n",
    "\n",
    "1. The first step is to implement the graph. We use the adjacency matrix of the graph. Since graphs are assumed to be undirected with a single weight, the adjacency matrix is symmetric and contains only 1s. This matrix is created using the randm_matrix function.\n",
    "\n",
    "2. I create the function u_x which is the evolution operator of the Hamiltonian hx.\n",
    "\n",
    "3. I create the function u_c which is the evolution operator of the Hamiltonian hc.\n",
    "\n",
    "4. I create the function U_init() which creates a circuit that returns the ground state of hx.\n",
    "\n",
    "5. I create the function u_n which applies the Suzuki-Trotter approximation of $U_{\\eta}$. We notice that at each iteration, as $\\frac{j - 1}{m(\\eta -1}$ increases, $\\frac{\\eta - j}{m(\\eta -1}$ decreases, which reflects the transition from the Hamiltonian hx to hc.\n",
    "\n",
    "6. The function qaoa_circuit simply initializes the circuit in the ground state of $H_{x}$ before applying u_n.\n",
    "\n",
    "7. The function ground_state_optimizer() in this function, I use the qaoa_circuit function with the evolve method to retrieve the state vector of our circuit after the evolution of our system: $$\\ket{\\Phi_{\\eta,m}} = U_{\\eta , m}U_{init}\\ket{0}$$ Then I calculate c, which is the eigenvalue of this state vector: $$C = \\bra{\\Phi_{\\eta,m}}H_{c}\\ket{\\Phi_{\\eta,m}}$$ then we perform optimization on C to make it as small as possible and thus obtain a good approximation of the ground state $\\ket{\\Phi_{\\eta,m}}$. The optimization doesn't seem to work very well, probably because the increments of $\\eta$ and m are integers. I could solve this problem for m by changing the way I construct the u_n circuit. I could first obtain the matrix corresponding to $$ U_{c}(\\frac{j - 1}{m(\\eta - 1)})U_{x}(\\frac{\\eta - j}{m(\\eta - 1)})$$ Then apply the power m and transform the resulting matrix into an observable, and finally add it to the u_c circuit.\n",
    "\n",
    "8. Since the method outputs several basis vectors whose modulus is sufficiently large, I calculate the co je rechier les plus grand.\n",
    "   \n",
    "9. The function `calculate_maxcut_from_strings()` executes the final task. At this stage, I already have the bit string that corresponds to the partition of the maxcut. In fact, the \"0\" bits form one partition and the \"1\" bits form the other. For example, if I have \"0101\" with the order \"0123\", then the nodes from zero, namely {0, 2}, form one partition and {1, 3} form the other partition. It only remains to determine the number of edges that connect these partitions, which is the maxcut.\n",
    "\n",
    "Unfortunately, I couldn't find a simple Python function to estimate the maxc for quick comparisonut.\n",
    "\n",
    "Also, I notice a small bug at the end of execution. When I perform the following execution, I don't have any convergence. It's only after a third execution that I obtain results.keep the largest one.\n"
   ]
  },
  {
   "cell_type": "code",
   "execution_count": 1,
   "id": "40157520-312c-4ca7-a27c-d7e6bffae2db",
   "metadata": {},
   "outputs": [],
   "source": [
    "from qiskit import QuantumCircuit , transpile , assemble \n",
    "from qiskit.quantum_info import Statevector\n",
    "from qiskit.circuit.library import UnitaryGate\n",
    "\n",
    "from qiskit.visualization import plot_histogram\n",
    "from qiskit.visualization import plot_state_city\n",
    "\n",
    "\n",
    "import numpy as np\n",
    "from functools import reduce\n",
    "from scipy.linalg import expm\n",
    "import networkx as nx\n",
    "from networkx.algorithms.approximation import maxcut\n",
    "import matplotlib.pyplot as plt\n",
    "\n",
    "from scipy.optimize import minimize"
   ]
  },
  {
   "cell_type": "markdown",
   "id": "deb58d9a-71c3-4866-a901-7f6232328d97",
   "metadata": {},
   "source": [
    "# Generation of the matrix J representing a graph with n nodes."
   ]
  },
  {
   "cell_type": "code",
   "execution_count": 2,
   "id": "bad19191-37d2-4963-b675-beb89eec7b1c",
   "metadata": {},
   "outputs": [],
   "source": [
    "def randm_matrix(n):\n",
    "    j = np.zeros((n,n), dtype=int)\n",
    "\n",
    "    # Assign randomly two connections for each node\n",
    "    for i in range(n):\n",
    "        connections = np.random.choice(np.delete(np.arange(n), i), 2, replace=False)\n",
    "        for conn in connections:\n",
    "            j[i, conn] = 1\n",
    "            j[conn, i] = 1\n",
    "    \n",
    "    return j\n",
    "\n",
    "\n",
    "size_graphe = [3 , 4 , 5 , 6 , 7]\n",
    "\n",
    "graph_list = []\n",
    "\n",
    "for i in size_graphe:\n",
    "    graph_list.append(randm_matrix(i))"
   ]
  },
  {
   "cell_type": "markdown",
   "id": "c9e0ce92-9560-47c0-a411-3d780803ab98",
   "metadata": {},
   "source": [
    "# Evolution operator $U_{x}(dt)$"
   ]
  },
  {
   "cell_type": "markdown",
   "id": "676f012b-f577-44e1-99bf-9bcc0a48dde1",
   "metadata": {},
   "source": [
    "$H_{x} = \\sum_{i}^{n}X_{i} = X_{1}\\otimes I \\otimes I \\otimes .... \\otimes I + I \\otimes X_{2} \\otimes I \\otimes ... \\otimes I + ... + I \\otimes ... \\otimes I \\otimes X_{n}$\n"
   ]
  },
  {
   "cell_type": "code",
   "execution_count": 3,
   "id": "54529841-2d44-4679-8935-db31a096b8e4",
   "metadata": {},
   "outputs": [],
   "source": [
    "def u_x(time_evol , nb_nodes):\n",
    "    \"\"\"\n",
    "        Implement the evolution operator for H_x.\n",
    "        Returns a unitary operator.\n",
    "    \"\"\"\n",
    "    x = np.array([[0, 1], [1, 0]], dtype=complex) \n",
    "    N = 2**(nb_nodes)\n",
    "    hx = np.zeros((N, N)) # initialization of Hx hamiltonian with zero matrix\n",
    "    \n",
    "    #For each element i in the sum, we create a row matrix A that initially\n",
    "    #contains only identity matrices. Then, I replace the positions i  \n",
    "    #with X matrices. Afterward, I compute the tensor product \n",
    "    #in the order of the list, followed by the summation of the resulting matrices.\n",
    "    for i in range(nb_nodes):\n",
    "        A = [np.eye(2) for _ in range(nb_nodes)]  # Initialize A for each i, j\n",
    "        A[i] = x\n",
    "        tensor_product = reduce(np.kron, A)\n",
    "        hx = hx + tensor_product\n",
    "    \n",
    "    ux = expm(-1j * time_evol* hx)\n",
    "    unitary_gate_ux= UnitaryGate(ux , label= \"Ux(dt = {})\".format(time_evol))\n",
    "    return unitary_gate_ux"
   ]
  },
  {
   "cell_type": "markdown",
   "id": "f7baa40f-bd21-4988-b70f-80ffa7bfb6ab",
   "metadata": {},
   "source": [
    "# Evolution operator $U_{c}(dt)$"
   ]
  },
  {
   "cell_type": "code",
   "execution_count": 4,
   "id": "af919bee-732e-466e-8211-b74f40c7cfaa",
   "metadata": {},
   "outputs": [],
   "source": [
    "def u_c(J, time_evol, nb_nodes):\n",
    "    \"\"\"\n",
    "    Implements the evolution operator of H_c.\n",
    "    Returns a unitary operator.\n",
    "    \"\"\"\n",
    "    # The number of nodes, nb_nodes, corresponds to the number of qubits,\n",
    "    # and the size of the Ising Hamiltonian should be coherent.\n",
    "    \n",
    "    # J is the matrix corresponding to the graph; if there is a connection \n",
    "    # between nodes i and j, then J[i, j] = J[j, i] = 1, otherwise 0\n",
    "    \n",
    "    z = np.array([[1, 0], [0, -1]], dtype=complex) \n",
    "    N = 2**(nb_nodes)\n",
    "    hc = np.zeros((N, N))  # Initialize the matrix with zeros\n",
    "    \n",
    "    # For each pair (i, j) in the sum, we create a row matrix A that initially\n",
    "    # contains only identity matrices. Then, we replace the positions i and j \n",
    "    # with Z matrices. Afterward, we compute the tensor product \n",
    "    # in the order of the list, followed by the summation of the resulting matrices.\n",
    "    for i in range(nb_nodes):\n",
    "        for j in range(i + 1, nb_nodes):\n",
    "            A = [np.eye(2) for _ in range(nb_nodes)]  # Initialize A for each i, j\n",
    "            if J[i, j] != 0:\n",
    "                A[i] = z\n",
    "                A[j] = z\n",
    "                tensor_product = reduce(np.kron, A)\n",
    "                hc = hc + tensor_product\n",
    "\n",
    "    uc = expm(-1j * time_evol * hc)\n",
    "    unitary_gate = UnitaryGate(uc, label=\"Uc(dt = {})\".format(time_evol))\n",
    "    return unitary_gate"
   ]
  },
  {
   "cell_type": "markdown",
   "id": "f351dfdd-94a5-4eae-8e38-eec16deb023b",
   "metadata": {},
   "source": [
    "# Circuit to initialize the system to the ground state of the Hamiltonian $H_{x}$.\n",
    "\n",
    "This choice is the most obvious general choice, as it assumes that initially the qubits are independent of each other, then they are allowed to evolve, interact with each other until they find the arrangement that minimizes their overall Hamiltonian.\n",
    "\n",
    "Since the state $\\ket{-}$ is the ground state of $X$, then $\\ket{-} \\otimes \\ket{-} \\otimes ... \\otimes \\ket{-}$ is the ground state of $H_{x}$."
   ]
  },
  {
   "cell_type": "code",
   "execution_count": 5,
   "id": "2e86d7f1-d17f-4568-9bfe-f08fae43d9e4",
   "metadata": {},
   "outputs": [
    {
     "data": {
      "image/png": "[encoded data removed]",
      "text/plain": [
       "<Figure size 287.496x451.5 with 1 Axes>"
      ]
     },
     "execution_count": 5,
     "metadata": {},
     "output_type": "execute_result"
    }
   ],
   "source": [
    "def U_init(nb_nodes):\n",
    "    \"\"\"\n",
    "    Initilize the system\n",
    "\n",
    "    return quantum cirucit\n",
    "    \"\"\"\n",
    "    qc = QuantumCircuit(nb_nodes)\n",
    "    qc.x(range(nb_nodes))\n",
    "    qc.h(range(nb_nodes))\n",
    "    \n",
    "    return qc\n",
    "\n",
    "U_init(5).draw('mpl')"
   ]
  },
  {
   "cell_type": "markdown",
   "id": "872f75ae-c8c1-46de-a31b-dbb17d1440b4",
   "metadata": {},
   "source": [
    "# Global evolution operator $U_{\\eta}$\n",
    "By using the Suzuki-trotter approximation, we have\n",
    "$$ U_{\\eta} = \\prod_{j = 1}^{\\eta}\\left[U_{c}(\\frac{j - 1}{m(\\eta - 1)})U_{x}(\\frac{\\eta - j}{m(\\eta - 1)})\\right]^{m}$$"
   ]
  },
  {
   "cell_type": "code",
   "execution_count": 6,
   "id": "7069ad5f-945e-4d33-a5e6-393673c60f39",
   "metadata": {},
   "outputs": [],
   "source": [
    "def u_n(J , n , m ):\n",
    "    #nb_nodes it the number of qubits\n",
    "    nb_nodes = len(J)\n",
    "    qc = QuantumCircuit(nb_nodes)\n",
    "    for j in range(1 , n + 1):\n",
    "        tc = (j - 1)/(m*(n - 1))\n",
    "        tx = (n - j)/(m*(n - 1))\n",
    "        for k in range(1, m + 1):\n",
    "            qc.append(u_x(time_evol= tx , nb_nodes=nb_nodes) , [i for i in range(nb_nodes)])\n",
    "            qc.append(u_c(J, tc, nb_nodes=nb_nodes) , [i for i in range(nb_nodes)])\n",
    "        \n",
    "    return qc"
   ]
  },
  {
   "cell_type": "markdown",
   "id": "e9328634-9a3f-4c4c-9d4c-b1d6e24b41ad",
   "metadata": {},
   "source": [
    "# This is the complete circuit from initialization to $U_{\\eta}$"
   ]
  },
  {
   "cell_type": "code",
   "execution_count": 7,
   "id": "232bd5b9-d814-4a37-8e45-7e8ab7b0fd81",
   "metadata": {},
   "outputs": [],
   "source": [
    "def qaoa_circuit(J , n , m):\n",
    "    nb_nodes = len(J)\n",
    "    qc = QuantumCircuit(nb_nodes)\n",
    "    # initialization of the systeme at the ground state of H_x\n",
    "    qc.append(U_init(nb_nodes=nb_nodes) , [i for i in range(nb_nodes)])\n",
    "    qc.append(u_n(J, n = n , m = m ) , [i for i in range(nb_nodes)])\n",
    "    #qc.measure_all()\n",
    "    \n",
    "    return qc"
   ]
  },
  {
   "cell_type": "markdown",
   "id": "f37b0a90-5fe0-4cb9-919c-94fdab0cfa44",
   "metadata": {},
   "source": [
    "# Now i want to try to optimise a ground state firt i need $H_{c}$ "
   ]
  },
  {
   "cell_type": "code",
   "execution_count": 8,
   "id": "1cc5260d-86d1-4f44-98f5-adb476c9556c",
   "metadata": {},
   "outputs": [],
   "source": [
    "def hc( J ):\n",
    "    nb_nodes = len(J)\n",
    "    #The number of node nb_nodes it is the number of number of qubit and ising_hamilt size should be coherent\n",
    "    \n",
    "    # J is the matrix corresponding to the graph; if there is a connection \n",
    "    # between nodes i and j, then J[i, j] = J[j, i] = 1, otherwise 0\n",
    "    \n",
    "    z = np.array([[1, 0], [0, -1]], dtype=complex) \n",
    "    N = 2**(nb_nodes)\n",
    "    hc = np.zeros((N, N)) # Initialisation de la matrice apr la matrice nulle\n",
    "    \n",
    "    #For each pair (i, j) in the sum, we create a row matrix A that initially\n",
    "    #contains only identity matrices. Then, I replace the positions i and j \n",
    "    #with Z matrices. Afterward, I compute the tensor product \n",
    "    #in the order of the list, followed by the summation of the resulting matrices.\n",
    "    for i in range(nb_nodes):\n",
    "        for j in range(i + 1, nb_nodes):\n",
    "            A = [np.eye(2) for _ in range(nb_nodes)]  # Initialize A for each i, j\n",
    "            if J[i, j] != 0:\n",
    "                A[i] = z\n",
    "                A[j] = z\n",
    "                tensor_product = reduce(np.kron, A)\n",
    "                hc = hc + tensor_product\n",
    "    return hc"
   ]
  },
  {
   "cell_type": "markdown",
   "id": "52cc0dd0-925d-4549-b9b2-8aac7b0e4a39",
   "metadata": {},
   "source": [
    "# Optimisation process"
   ]
  },
  {
   "cell_type": "code",
   "execution_count": 9,
   "id": "154656df-0b1d-4d41-a23c-d91b4e08a7cf",
   "metadata": {},
   "outputs": [],
   "source": [
    "def ground_state_optimizer(J, init_m, init_n):\n",
    "    def cost_function(x, J):\n",
    "        m = int(x[0])  # Convert m integer\n",
    "        n = int(x[1])  # Convert n integer\n",
    "        qc = qaoa_circuit(J, n, m)\n",
    "        num_qubits = qc.num_qubits\n",
    "        zero_string = '0' * num_qubits\n",
    "        sv = Statevector.from_label(zero_string)\n",
    "        sv = sv.evolve(qc)\n",
    "        C = np.dot(sv.data.conj().T, np.dot(hc(J), sv))\n",
    "        return C.real\n",
    "\n",
    "    bounds = [(0, None), (0, None)]  # for have n and m positives\n",
    "\n",
    "    result = minimize(cost_function, [init_m, init_n], args=(J,), method='SLSQP', bounds=bounds)\n",
    "\n",
    "    min_cost = result.fun\n",
    "    optimal_m = int(result.x[0])\n",
    "    optimal_n = int(result.x[1])\n",
    "\n",
    "    qc = qaoa_circuit(J, optimal_n, optimal_m)\n",
    "    num_qubits = qc.num_qubits\n",
    "    zero_string = '0' * num_qubits\n",
    "    optimal_sv = Statevector.from_label(zero_string).evolve(qc)\n",
    "\n",
    "    return min_cost, optimal_sv, optimal_m, optimal_n\n",
    "\n",
    "\n",
    "\n",
    "def dominant_basis_states(statevector, threshold=0.5):\n",
    "    coeffs = statevector.data\n",
    "    num_qubits = int(np.log2(len(coeffs)))  # get the number of qubits\n",
    "    basis_states = [format(i, '0'+str(num_qubits)+'b') for i in range(2**num_qubits)]  # generate X-state basis \n",
    "    state_coeffs = dict(zip(basis_states, coeffs))  # Associate coefficients with base states\n",
    "    dominant_states = [state for state, coeff in state_coeffs.items() if np.abs(coeff) > threshold]  #Filter states with a coefficient higher than the threshold.\"\n",
    "    return dominant_states"
   ]
  },
  {
   "cell_type": "code",
   "execution_count": 10,
   "id": "87b44097-13fa-4447-a884-eb6784197c70",
   "metadata": {},
   "outputs": [],
   "source": [
    "def calculate_maxcut_from_strings(graph , strings):\n",
    "    num_columns = len(strings)\n",
    "    A = [[], []]\n",
    "    # initailization of the two partitons\n",
    "    partition_0 = []\n",
    "    partition_1 = []\n",
    "\n",
    "    A[0] = [i for i in range(num_columns)]\n",
    "    A[1] = [char for char in strings]\n",
    "\n",
    "    # Partition filling according to whether the nodes are associated with '1' or '0' bits    j = 0\n",
    "    j = 0\n",
    "    for i in A[1]:\n",
    "        if i == '0':\n",
    "            partition_0.append(A[0][j])\n",
    "        else:\n",
    "            partition_1.append(A[0][j])\n",
    "        j = j + 1\n",
    "        \n",
    "    # Initialize a dictionary to store the connections for each node in the list.\n",
    "    connexions = {node: 0 for node in partition_0}\n",
    "    \n",
    "    # Iterate over each node in the list\n",
    "    for node in partition_0:\n",
    "        # Iterate over the neighbors of the node\n",
    "        for neighbor in graph.neighbors(node):\n",
    "            # Check if the neighbor is not in the list of nodes\n",
    "            if neighbor not in partition_0:\n",
    "                # Increment the number of connections of the node\n",
    "                connexions[node] += 1\n",
    "\n",
    "    # Compute the sum of connections for all nodes in the list\n",
    "    sum_connexions = sum(connexions.values())\n",
    "    return sum_connexions"
   ]
  },
  {
   "cell_type": "code",
   "execution_count": 11,
   "id": "3a787187-6886-45d8-a230-a6a2c21b3c72",
   "metadata": {},
   "outputs": [],
   "source": [
    "K = []\n",
    "for i in [3 , 5 , 6 , 7]:\n",
    "    K.append(randm_matrix(i))"
   ]
  },
  {
   "cell_type": "code",
   "execution_count": 12,
   "id": "78ec28ee-ce24-4ef0-b166-3f80e4a7dfa2",
   "metadata": {},
   "outputs": [],
   "source": [
    "matrix_3 , matrix_5 , matrix_6  , matrix_7 = K\n",
    "J = [matrix_3 , matrix_5 , matrix_6  ,  matrix_7 ]"
   ]
  },
  {
   "cell_type": "code",
   "execution_count": 13,
   "id": "3f674e56-d1ac-4544-8341-f8b7dae5b3d6",
   "metadata": {},
   "outputs": [
    {
     "name": "stdout",
     "output_type": "stream",
     "text": [
      "maxcut not found\n"
     ]
    },
    {
     "data": {
      "image/png": "[encoded data removed]",
      "text/plain": [
       "<Figure size 200x200 with 1 Axes>"
      ]
     },
     "metadata": {},
     "output_type": "display_data"
    },
    {
     "name": "stdout",
     "output_type": "stream",
     "text": [
      "maxcut not found\n"
     ]
    },
    {
     "data": {
      "image/png": "[encoded data removed]",
      "text/plain": [
       "<Figure size 200x200 with 1 Axes>"
      ]
     },
     "metadata": {},
     "output_type": "display_data"
    },
    {
     "name": "stdout",
     "output_type": "stream",
     "text": [
      "The maxcut by QAOA : 8\n"
     ]
    },
    {
     "data": {
      "image/png": "[encoded data removed]",
      "text/plain": [
       "<Figure size 200x200 with 1 Axes>"
      ]
     },
     "metadata": {},
     "output_type": "display_data"
    },
    {
     "name": "stdout",
     "output_type": "stream",
     "text": [
      "maxcut not found\n"
     ]
    },
    {
     "data": {
      "image/png": "[encoded data removed]",
      "text/plain": [
       "<Figure size 200x200 with 1 Axes>"
      ]
     },
     "metadata": {},
     "output_type": "display_data"
    }
   ],
   "source": [
    "def graph_generator(matrix):\n",
    "    graph = nx.from_numpy_array(matrix)\n",
    "    return graph\n",
    "\n",
    "for matrix in J:\n",
    "    g = graph_generator(matrix)\n",
    "    min_cost, optimal_sv, optimal_m, optimal_n = ground_state_optimizer(matrix , 10 , 10)\n",
    "    dominant_states = dominant_basis_states(optimal_sv , threshold = 0.5)\n",
    "    maxcut_list = []\n",
    "    for state in dominant_states:\n",
    "        maxcut_value = calculate_maxcut_from_strings(g , state)\n",
    "        maxcut_list.append(maxcut_value)\n",
    "    if maxcut_list == []:\n",
    "        print('maxcut not found')\n",
    "    else:\n",
    "        print(\"The maxcut by QAOA :\", max(maxcut_list)) \n",
    "        \n",
    "    # nx.draw_random(g, with_labels= True)\n",
    "    # plt.show()\n",
    "    # Set the figure size\n",
    "    plt.figure(figsize=(2, 2))\n",
    "    nx.draw_random(g, with_labels=True)\n",
    "    plt.show()"
   ]
  },
  {
   "cell_type": "code",
   "execution_count": null,
   "id": "fd643fd1-8085-4c4e-988a-9bf901792b17",
   "metadata": {},
   "outputs": [],
   "source": []
  }
 ],
 "metadata": {
  "kernelspec": {
   "display_name": "pulser_env",
   "language": "python",
   "name": "python3"
  },
  "language_info": {
   "codemirror_mode": {
    "name": "ipython",
    "version": 3
   },
   "file_extension": ".py",
   "mimetype": "text/x-python",
   "name": "python",
   "nbconvert_exporter": "python",
   "pygments_lexer": "ipython3",
   "version": "3.12.2"
  }
 },
 "nbformat": 4,
 "nbformat_minor": 5
}
